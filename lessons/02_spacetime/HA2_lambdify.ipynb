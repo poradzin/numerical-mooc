{
 "cells": [
  {
   "cell_type": "code",
   "execution_count": 4,
   "metadata": {
    "collapsed": false
   },
   "outputs": [
    {
     "name": "stdout",
     "output_type": "stream",
     "text": [
      "The value of phiprime at x=2.2 is -0.000266489126709.\n"
     ]
    },
    {
     "data": {
      "image/png": "[encoded data removed]",
      "text/latex": [
       "$$-0.000266489126709206$$"
      ],
      "text/plain": [
       "-0.000266489126709206"
      ]
     },
     "execution_count": 4,
     "metadata": {},
     "output_type": "execute_result"
    }
   ],
   "source": [
    "import numpy\n",
    "import sympy\n",
    "from matplotlib import pyplot\n",
    "%matplotlib inline\n",
    "from matplotlib import rcParams\n",
    "rcParams['font.family'] = 'serif'\n",
    "rcParams['font.size'] = 16\n",
    "\n",
    "from sympy import init_printing\n",
    "init_printing()\n",
    "\n",
    "x = sympy.symbols('x')\n",
    "\n",
    "#x, nu, t = sympy.symbols('x nu t')\n",
    "phi = sympy.cos(x)**2* sympy.sin(x)**3/4/(x**5)/sympy.exp(x)\n",
    "\n",
    "# differentiate phi with respect ot x\n",
    "phiprime = phi.diff(x)\n",
    "\n",
    "# import lambdify\n",
    "from sympy.utilities.lambdify import lambdify\n",
    "\n",
    "u_lamb = lambdify((x), phiprime)\n",
    "print(\"The value of phiprime at x=2.2 is {}.\".format(u_lamb(2.2)))\n",
    "\n",
    "# another possible solution with subs and evalf\n",
    "\n",
    "eq = sympy.cos(x)**2*sympy.sin(x)**3 / (4*x**5*sympy.exp(x))\n",
    "\n",
    "eq.diff(x).subs(x,2.2).evalf()"
   ]
  },
  {
   "cell_type": "code",
   "execution_count": null,
   "metadata": {
    "collapsed": true
   },
   "outputs": [],
   "source": []
  }
 ],
 "metadata": {
  "kernelspec": {
   "display_name": "Python 2",
   "language": "python",
   "name": "python2"
  },
  "language_info": {
   "codemirror_mode": {
    "name": "ipython",
    "version": 2
   },
   "file_extension": ".py",
   "mimetype": "text/x-python",
   "name": "python",
   "nbconvert_exporter": "python",
   "pygments_lexer": "ipython2",
   "version": "2.7.9"
  }
 },
 "nbformat": 4,
 "nbformat_minor": 0
}
